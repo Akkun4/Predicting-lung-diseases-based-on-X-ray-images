{
 "cells": [
  {
   "cell_type": "code",
   "execution_count": 1,
   "id": "48741a38",
   "metadata": {},
   "outputs": [],
   "source": [
    "import glob\n",
    "import cv2\n",
    "import numpy as np\n",
    "import random\n",
    "import tensorflow as tf\n",
    "from tensorflow.keras import layers\n",
    "from keras.layers import Dense, Flatten\n",
    "from keras.layers.convolutional import Conv2D\n",
    "from keras.models import Sequential\n",
    "from keras.layers import Dense, Conv2D, Flatten\n",
    "from keras.layers import Dropout \n",
    "from keras.models import Sequential\n",
    "from keras.utils import to_categorical\n",
    "from tensorflow.keras.optimizers import Adam\n"
   ]
  },
  {
   "cell_type": "code",
   "execution_count": 2,
   "id": "4deb8119",
   "metadata": {},
   "outputs": [],
   "source": [
    "###Reading the source files\n",
    "\n",
    "covid = [cv2.imread(file,cv2.IMREAD_GRAYSCALE) for file in glob.glob(\"E:\\\\COVID-19_Radiography_Dataset\\COVID\\images\\*.png\")] \n",
    "\n",
    "viral = [cv2.imread(file,cv2.IMREAD_GRAYSCALE) for file in glob.glob(\"E:\\\\COVID-19_Radiography_Dataset\\Viral Pneumonia\\images\\*.png\")]\n",
    "\n",
    "normal = [cv2.imread(file,cv2.IMREAD_GRAYSCALE) for file in glob.glob(\"E:\\\\COVID-19_Radiography_Dataset\\\\Normal\\images\\*.png\")]\n",
    "\n",
    "lung = [cv2.imread(file,cv2.IMREAD_GRAYSCALE) for file in glob.glob(\"E:\\\\COVID-19_Radiography_Dataset\\Lung_Opacity\\images\\*.png\")]\n"
   ]
  },
  {
   "cell_type": "code",
   "execution_count": 3,
   "id": "ada736ae",
   "metadata": {},
   "outputs": [],
   "source": [
    "covid_path = \"E:\\\\COVID-19_Radiography_Dataset\\COVID\\images\\*.png\""
   ]
  },
  {
   "cell_type": "code",
   "execution_count": 4,
   "id": "5adf16e3",
   "metadata": {},
   "outputs": [],
   "source": [
    "import cv2\n",
    "import glob"
   ]
  },
  {
   "cell_type": "code",
   "execution_count": 5,
   "id": "a5ad384c",
   "metadata": {},
   "outputs": [],
   "source": [
    "### Randomly sampling 1000 records\n",
    "normal_2 = random.sample(normal, 1000)\n",
    "lung_2 = random.sample(lung, 1000)\n",
    "viral_2 = random.sample(viral, 1000)\n",
    "covid_2 = random.sample(covid, 1000)"
   ]
  },
  {
   "cell_type": "code",
   "execution_count": 6,
   "id": "b94ea910",
   "metadata": {},
   "outputs": [],
   "source": [
    "### Adding labels\n",
    "\n",
    "covid_labels = [0] * len(covid_2)\n",
    "lung_labels = [1] * len(lung_2)\n",
    "normal_labels = [2] * len(normal_2)\n",
    "viral_labels = [3] * len(viral_2)\n",
    "final_labels = covid_labels + lung_labels + normal_labels + viral_labels\n",
    "\n"
   ]
  },
  {
   "cell_type": "code",
   "execution_count": 7,
   "id": "a4c252c4",
   "metadata": {},
   "outputs": [],
   "source": [
    "### Splitting train and test labels\n",
    "train_labels = np.array(final_labels[0:3500])\n",
    "test_labels = np.array(final_labels[3500:len(final_labels)])\n"
   ]
  },
  {
   "cell_type": "code",
   "execution_count": 8,
   "id": "7816b3c5",
   "metadata": {},
   "outputs": [
    {
     "data": {
      "text/plain": [
       "(500,)"
      ]
     },
     "execution_count": 8,
     "metadata": {},
     "output_type": "execute_result"
    }
   ],
   "source": [
    "test_labels.shape\n"
   ]
  },
  {
   "cell_type": "code",
   "execution_count": 9,
   "id": "9c0325c9",
   "metadata": {},
   "outputs": [],
   "source": [
    "final_dataset_obs = covid_2 + lung_2 + normal_2 + viral_2\n",
    "\n",
    "### Splitting train and test input images\n",
    "train_data = final_dataset_obs[0:3500]\n",
    "test_data = final_dataset_obs[3500:len(final_dataset_obs)]\n",
    "\n"
   ]
  },
  {
   "cell_type": "code",
   "execution_count": 10,
   "id": "aabadca1",
   "metadata": {},
   "outputs": [
    {
     "data": {
      "text/plain": [
       "(3500, 299, 299)"
      ]
     },
     "execution_count": 10,
     "metadata": {},
     "output_type": "execute_result"
    }
   ],
   "source": [
    "train_data_final = np.array(train_data)\n",
    "train_data_final.shape\n"
   ]
  },
  {
   "cell_type": "code",
   "execution_count": 11,
   "id": "df47beb4",
   "metadata": {},
   "outputs": [
    {
     "data": {
      "text/plain": [
       "(500, 299, 299)"
      ]
     },
     "execution_count": 11,
     "metadata": {},
     "output_type": "execute_result"
    }
   ],
   "source": [
    "test_data_final = np.array(test_data)\n",
    "test_data_final.shape\n"
   ]
  },
  {
   "cell_type": "code",
   "execution_count": 12,
   "id": "72e7ee2c",
   "metadata": {},
   "outputs": [],
   "source": [
    "train_images = train_data_final.reshape(3500, 299, 299, 1)\n",
    "train_images = train_images.astype('float32') / 255\n",
    "test_images = test_data_final.reshape(500, 299, 299, 1)\n",
    "test_images = test_images.astype('float32') / 255\n",
    "train_labels = to_categorical(train_labels)\n",
    "test_labels = to_categorical(test_labels)\n"
   ]
  },
  {
   "cell_type": "code",
   "execution_count": 13,
   "id": "4f805819",
   "metadata": {},
   "outputs": [
    {
     "name": "stdout",
     "output_type": "stream",
     "text": [
      "Shape of X_train: (3500, 299, 299, 1)\n",
      "Shape of y_train: (3500, 4)\n",
      "Shape of X_test: (500, 299, 299, 1)\n",
      "Shape of y_test: (500, 4)\n"
     ]
    }
   ],
   "source": [
    "print(\"Shape of X_train: {}\".format(train_images.shape))\n",
    "print(\"Shape of y_train: {}\".format(train_labels.shape))\n",
    "print(\"Shape of X_test: {}\".format(test_images.shape))\n",
    "print(\"Shape of y_test: {}\".format(test_labels.shape))\n"
   ]
  },
  {
   "cell_type": "code",
   "execution_count": 14,
   "id": "ae3c9bad",
   "metadata": {},
   "outputs": [],
   "source": [
    "X_train = train_images \n",
    "y_train = train_labels \n",
    "X_test = test_images \n",
    "y_test = test_labels "
   ]
  },
  {
   "cell_type": "code",
   "execution_count": 15,
   "id": "10020388",
   "metadata": {},
   "outputs": [
    {
     "name": "stdout",
     "output_type": "stream",
     "text": [
      "Model: \"sequential\"\n",
      "_________________________________________________________________\n",
      " Layer (type)                Output Shape              Param #   \n",
      "=================================================================\n",
      " conv2d (Conv2D)             (None, 297, 297, 32)      320       \n",
      "                                                                 \n",
      " conv2d_1 (Conv2D)           (None, 295, 295, 64)      18496     \n",
      "                                                                 \n",
      " dropout (Dropout)           (None, 295, 295, 64)      0         \n",
      "                                                                 \n",
      " flatten (Flatten)           (None, 5569600)           0         \n",
      "                                                                 \n",
      " dense (Dense)               (None, 4)                 22278404  \n",
      "                                                                 \n",
      "=================================================================\n",
      "Total params: 22,297,220\n",
      "Trainable params: 22,297,220\n",
      "Non-trainable params: 0\n",
      "_________________________________________________________________\n",
      "Epoch 1/6\n",
      "110/110 [==============================] - 1263s 11s/step - loss: 3.4820 - accuracy: 0.5789 - val_loss: 0.5164 - val_accuracy: 0.8400\n",
      "Epoch 2/6\n",
      "110/110 [==============================] - 1108s 10s/step - loss: 0.6867 - accuracy: 0.7554 - val_loss: 0.2187 - val_accuracy: 0.9500\n",
      "Epoch 3/6\n",
      "110/110 [==============================] - 1211s 11s/step - loss: 0.4307 - accuracy: 0.8509 - val_loss: 0.3244 - val_accuracy: 0.9100\n",
      "Epoch 4/6\n",
      "110/110 [==============================] - 1086s 10s/step - loss: 0.2409 - accuracy: 0.9257 - val_loss: 0.4025 - val_accuracy: 0.8980\n",
      "Epoch 5/6\n",
      "110/110 [==============================] - 1007s 9s/step - loss: 0.1758 - accuracy: 0.9457 - val_loss: 0.3824 - val_accuracy: 0.8840\n",
      "Epoch 6/6\n",
      "110/110 [==============================] - 954s 9s/step - loss: 0.2526 - accuracy: 0.9369 - val_loss: 0.3349 - val_accuracy: 0.9220\n"
     ]
    }
   ],
   "source": [
    "model = Sequential()\n",
    "model.add(Conv2D(32, kernel_size=(3, 3), input_shape=(299, 299, 1), activation='relu'))\n",
    "model.add(Conv2D(64, kernel_size=(3, 3), activation='relu'))\n",
    "model.add(Dropout(0.3))\n",
    "model.add(Flatten())\n",
    "model.add(Dense(4, activation='softmax'))\n",
    "model.compile(optimizer='adam', loss='categorical_crossentropy', metrics=['accuracy'])\n",
    "model.summary()\n",
    "history = model.fit(train_images, train_labels, validation_data=(test_images, test_labels), epochs=6)"
   ]
  },
  {
   "cell_type": "code",
   "execution_count": 16,
   "id": "8c06e035",
   "metadata": {},
   "outputs": [
    {
     "name": "stdout",
     "output_type": "stream",
     "text": [
      "16/16 [==============================] - 22s 1s/step - loss: 0.3349 - accuracy: 0.9220\n",
      "Loss:  0.33489468693733215\n",
      "16/16 [==============================] - 22s 1s/step - loss: 0.3349 - accuracy: 0.9220\n",
      "Accuracy:  92.1999990940094 %\n"
     ]
    }
   ],
   "source": [
    "print(\"Loss: \", model.evaluate (X_test, y_test) [0])\n",
    "print(\"Accuracy: \", model.evaluate (X_test, y_test) [1] * 100, \"%\")\n"
   ]
  },
  {
   "cell_type": "code",
   "execution_count": 17,
   "id": "36040bb2",
   "metadata": {},
   "outputs": [],
   "source": [
    "from matplotlib import pyplot as plt\n"
   ]
  },
  {
   "cell_type": "code",
   "execution_count": 18,
   "id": "d15fcf57",
   "metadata": {},
   "outputs": [
    {
     "data": {
      "image/png": "[encoded data removed]",
      "text/plain": [
       "<Figure size 432x288 with 1 Axes>"
      ]
     },
     "metadata": {
      "needs_background": "light"
     },
     "output_type": "display_data"
    }
   ],
   "source": [
    "plt.plot(history.history['loss'])\n",
    "plt.plot(history.history['val_loss'])\n",
    "plt.title('model loss')\n",
    "plt.ylabel('loss')\n",
    "plt.xlabel('epoch')\n",
    "plt.legend(['train', 'val'], loc='upper left')\n",
    "plt.show()"
   ]
  },
  {
   "cell_type": "code",
   "execution_count": 19,
   "id": "7b9a8b88",
   "metadata": {},
   "outputs": [
    {
     "data": {
      "image/png": "[encoded data removed]",
      "text/plain": [
       "<Figure size 432x288 with 1 Axes>"
      ]
     },
     "metadata": {
      "needs_background": "light"
     },
     "output_type": "display_data"
    }
   ],
   "source": [
    "plt.plot(history.history['accuracy'])\n",
    "plt.plot(history.history['val_accuracy'])\n",
    "plt.title('model accuracy')\n",
    "plt.ylabel('accuracy')\n",
    "plt.xlabel('epoch')\n",
    "plt.legend(['train', 'val'], loc='upper left')\n",
    "plt.show()"
   ]
  }
 ],
 "metadata": {
  "kernelspec": {
   "display_name": "Python 3 (ipykernel)",
   "language": "python",
   "name": "python3"
  },
  "language_info": {
   "codemirror_mode": {
    "name": "ipython",
    "version": 3
   },
   "file_extension": ".py",
   "mimetype": "text/x-python",
   "name": "python",
   "nbconvert_exporter": "python",
   "pygments_lexer": "ipython3",
   "version": "3.9.12"
  }
 },
 "nbformat": 4,
 "nbformat_minor": 5
}
